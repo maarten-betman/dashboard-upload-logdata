{
 "cells": [
  {
   "cell_type": "code",
   "execution_count": null,
   "metadata": {
    "pycharm": {
     "name": "#%%\n"
    },
    "tags": [
     "parameters"
    ]
   },
   "outputs": [],
   "source": [
    "flex_author = \"MBET\"\n",
    "flex_title = \"Upload PVD and Vibro Log data\"\n"
   ]
  },
  {
   "cell_type": "code",
   "execution_count": null,
   "metadata": {
    "pycharm": {
     "name": "#%%\n"
    }
   },
   "outputs": [],
   "source": [
    "from io import BytesIO\n",
    "from datetime import datetime\n",
    "import os\n",
    "\n",
    "from pt_etl_tooling.pvd_cho_ghb import parse_pvd_log_data as parse_ghb_cho\n",
    "from pt_etl_tooling.pvd_cof import parse_pvd_data as parse_cofra\n",
    "from pt_etl_tooling.vibro import parse_vibro_sheet as parse_keller\n",
    "\n",
    "import requests\n",
    "from ipywidgets import widgets\n",
    "from ipywidgets import GridspecLayout\n",
    "from openpyxl import load_workbook\n",
    "import sentry_sdk\n",
    "from sentry_sdk import capture_exception, capture_message\n",
    "from dotenv import load_dotenv\n",
    "load_dotenv()\n",
    "\n",
    "sentry_sdk.init(\n",
    "    os.getenv(\"SENTRY_DSN\"),\n",
    "    traces_sample_rate=1.0\n",
    ")"
   ]
  },
  {
   "cell_type": "markdown",
   "metadata": {
    "pycharm": {
     "name": "#%% md\n"
    }
   },
   "source": [
    "## Upload\n"
   ]
  },
  {
   "cell_type": "markdown",
   "metadata": {
    "pycharm": {
     "name": "#%% md\n"
    }
   },
   "source": [
    "### PVD"
   ]
  },
  {
   "cell_type": "code",
   "execution_count": null,
   "metadata": {
    "pycharm": {
     "name": "#%%\n"
    }
   },
   "outputs": [],
   "source": [
    "pvd_endpoint = \"http://10.64.32.62:8080/api/pvd/pvd\"\n",
    "pvd_endpoint_force = \"http://10.64.32.62:8080/api/pvd/pvd-force\"\n",
    "\n",
    "def process_pvd_data(b):\n",
    "    with output:\n",
    "        print(f\">>> Started processing PVD data on {datetime.now().strftime('%Y-%b-%d %H:%M:%S')}\")\n",
    "    funcs = [parse_cofra, parse_ghb_cho]\n",
    "    total_files = sum([len(files) for files in [cofra_files.value, cho_ghb_files.value]])\n",
    "    progress_step = 100 / total_files\n",
    "    \n",
    "    for i, files in enumerate([cofra_files, cho_ghb_files]):\n",
    "        if len(files.value)>0:\n",
    "            for name, file_info in files.value.items():\n",
    "                \n",
    "                wb = load_workbook(filename=BytesIO(file_info['content']))\n",
    "                ws = wb.active\n",
    "                \n",
    "                try:\n",
    "                    log_data, force_data = funcs[i](ws)\n",
    "                    message = f\">>> {datetime.now().strftime('%Y-%b-%d %H:%M:%S')} - Processed {name}\"\n",
    "                    pvd_response = requests.post(pvd_endpoint, json=log_data)\n",
    "                    force_response =  requests.post(pvd_endpoint_force, json=force_data)\n",
    "                except Exception as e:\n",
    "                    message = f\">>> {datetime.now().strftime('%Y-%b-%d %H:%M:%S')} - FAILED {name} - {e}\"\n",
    "                    capture_exception(e)\n",
    "\n",
    "                progress.value = progress.value + progress_step\n",
    "\n",
    "                capture_message(message)\n",
    "        \n",
    "                with output:\n",
    "                    print(message)"
   ]
  },
  {
   "cell_type": "code",
   "execution_count": null,
   "metadata": {
    "pycharm": {
     "name": "#%%\n"
    },
    "tags": [
     "body"
    ]
   },
   "outputs": [],
   "source": [
    "grid_pvd = GridspecLayout(2, 2)\n",
    "\n",
    "grid_pvd[0,0] = widgets.Label(\"Cofra\")\n",
    "cofra_files = widgets.FileUpload(accept=\".xlsx\", multiple=True)\n",
    "grid_pvd[0,1] = cofra_files\n",
    "\n",
    "grid_pvd[1,0]  = widgets.Label(\"Chosuk & Geoharbour\")\n",
    "cho_ghb_files = widgets.FileUpload(accept=\".xlsx\", multiple=True)\n",
    "grid_pvd[1,1] = cho_ghb_files\n",
    "\n",
    "process = widgets.Button(description=\"Process PVD data\")\n",
    "process.on_click(process_pvd_data)\n",
    "\n",
    "progress = widgets.FloatProgress(value=0, min=0, max=100)\n",
    "\n",
    "vbox_pvd = widgets.VBox([grid_pvd, process, progress])\n",
    "\n",
    "vbox_pvd"
   ]
  },
  {
   "cell_type": "markdown",
   "metadata": {
    "pycharm": {
     "name": "#%% md\n"
    }
   },
   "source": [
    "### Vibro"
   ]
  },
  {
   "cell_type": "code",
   "execution_count": null,
   "metadata": {},
   "outputs": [],
   "source": [
    "vibro_endpoint = \"http://10.64.32.62:8080/api/vibro/vibro\"\n",
    "\n",
    "def process_vibro_data(b):\n",
    "    total_files = len(keller_files.value)\n",
    "    progress_step = 100 / total_files\n",
    "    with output:\n",
    "        print(f\">>> Started processing PVD data on {datetime.now().strftime('%Y-%b-%d %H:%M:%S')}\")\n",
    "                       \n",
    "    if total_files > 0:\n",
    "        for name, file_info in keller_files.value.items():\n",
    "            wb = load_workbook(filename=BytesIO(file_info['content']))\n",
    "            ws = wb.active\n",
    "            \n",
    "            try:\n",
    "                log_data, force_data = parse_keller(ws)\n",
    "                vibro_response = requests.post(vibro_endpoint, json=log_data)\n",
    "                message = f\">>> {datetime.now().strftime('%Y-%b-%d %H:%M:%S')} - Processed {name}\"\n",
    "            except Exception as e:\n",
    "                message = f\">>> {datetime.now().strftime('%Y-%b-%d %H:%M:%S')} - FAILED {name} - {e}\"\n",
    "                capture_exception(e)\n",
    "\n",
    "            progress_vibro.value = progress_vibro.value + progress_step\n",
    "\n",
    "            capture_message(message)\n",
    "\n",
    "            with output:\n",
    "                print(message)"
   ]
  },
  {
   "cell_type": "code",
   "execution_count": null,
   "metadata": {
    "pycharm": {
     "name": "#%%\n"
    },
    "tags": [
     "body"
    ]
   },
   "outputs": [],
   "source": [
    "grid_vibro = GridspecLayout(1, 2)\n",
    "\n",
    "keller_files = widgets.FileUpload(accept=\".xlsx\", multiple=True)\n",
    "grid_vibro[0,0] = widgets.Label(\"Keller\")\n",
    "grid_vibro[0,1] = keller_files\n",
    "\n",
    "process_vibro = widgets.Button(description=\"Process Vibro data\")\n",
    "process_vibro.on_click(process_vibro_data)\n",
    "progress_vibro = widgets.FloatProgress()\n",
    "\n",
    "vbox_vibro = widgets.VBox([grid_vibro, process_vibro, progress_vibro])\n",
    "\n",
    "vbox_vibro\n"
   ]
  },
  {
   "cell_type": "markdown",
   "metadata": {
    "pycharm": {
     "name": "#%% md\n"
    }
   },
   "source": [
    "## Log"
   ]
  },
  {
   "cell_type": "markdown",
   "source": [
    "### log"
   ],
   "metadata": {
    "collapsed": false,
    "pycharm": {
     "name": "#%% md\n"
    }
   }
  },
  {
   "cell_type": "code",
   "execution_count": null,
   "metadata": {
    "pycharm": {
     "name": "#%%\n"
    },
    "tags": [
     "body"
    ]
   },
   "outputs": [],
   "source": [
    "output = widgets.Output()\n",
    "output"
   ]
  },
  {
   "cell_type": "code",
   "execution_count": null,
   "metadata": {},
   "outputs": [],
   "source": []
  }
 ],
 "metadata": {
  "celltoolbar": "Tags",
  "kernelspec": {
   "display_name": "Python 3",
   "language": "python",
   "name": "python3"
  },
  "language_info": {
   "codemirror_mode": {
    "name": "ipython",
    "version": 3
   },
   "file_extension": ".py",
   "mimetype": "text/x-python",
   "name": "python",
   "nbconvert_exporter": "python",
   "pygments_lexer": "ipython3",
   "version": "3.8.6"
  }
 },
 "nbformat": 4,
 "nbformat_minor": 1
}